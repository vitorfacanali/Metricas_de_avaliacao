{
 "cells": [
  {
   "cell_type": "markdown",
   "id": "f7db6fb7",
   "metadata": {},
   "source": [
    "# Métricas de Avaliação\n",
    "\n",
    "## Viés vs Variância (Bias and Variance)\n",
    "\n",
    "\n",
    "Em poucas palavras, **Viés é o erro do algorítimo na fase de treino**.\n",
    "\n",
    "Para aumentar o vies, é necessário aprimorar a performance do algorítimo, utilizando diferentes técinas de, como Data Prep, utilizando outros algorítimos, etc.\n",
    "\n",
    "Por outro lado, a **Variância é a diferença entre o erro da fase de treino** (azul) **com o erro da fase de teste** (vermelho).\n",
    "\n",
    "Alta variância significa que há uma diferença grande entre os resultados de ambas as fases, ou seja, nesse caso, temos um overfiting. Em casos onde temos uma variância baixa, porém um erro elevado em ambas as fases,o algorítmo esta com um underfiting. Por fim, quanto menor a variância e menor o viés, melhor está o algorítimo, ou seja, balanced fit.\n",
    "\n",
    "A imagem abaixo exemplifica melhor esse conceito.\n",
    "\n",
    "<img src = 'imagens_metricas\\ViesVariancia.png'>\n",
    "\n",
    "Um excelente vídeo que explica esse conceito é do Andrew Ng.\n",
    "Link: https://www.coursera.org/lecture/probabilistic-graphical-models-3-learning/diagnosing-bias-vs-variance-mBXLD"
   ]
  }
 ],
 "metadata": {
  "kernelspec": {
   "display_name": "Python 3",
   "language": "python",
   "name": "python3"
  },
  "language_info": {
   "codemirror_mode": {
    "name": "ipython",
    "version": 3
   },
   "file_extension": ".py",
   "mimetype": "text/x-python",
   "name": "python",
   "nbconvert_exporter": "python",
   "pygments_lexer": "ipython3",
   "version": "3.7.0"
  }
 },
 "nbformat": 4,
 "nbformat_minor": 5
}

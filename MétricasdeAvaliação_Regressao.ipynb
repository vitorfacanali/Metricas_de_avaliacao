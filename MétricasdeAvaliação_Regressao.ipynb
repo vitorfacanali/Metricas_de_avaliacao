{
 "cells": [
  {
   "cell_type": "markdown",
   "id": "c553731e",
   "metadata": {},
   "source": [
    "# Métricas de Avaliação\n",
    "\n",
    "## Regressão"
   ]
  },
  {
   "cell_type": "markdown",
   "id": "2e5fac85",
   "metadata": {},
   "source": [
    "### Mean Error (ME)\n",
    "\n",
    "Basicamente é a média da diferença entre o y e o y_predito, o qual acabando não sendo uma boa métrica de avaliação, uma vez que valores positivos e negativos podem se anular, dando a falsa impressão que o algorítimo teve melhores resultados do que realmente pode ter tido.\n",
    "\n",
    "Suponha que temos o exemplo abaixo:\n",
    "\n",
    "y | y_predito | Erro \n",
    ":----|:----:|:----:\n",
    "3 | 3,1| +0,1 \n",
    "3 | 4,8| +1,8 \n",
    "3 | 2,2| -0,8 \n",
    "3 | 2,0| -1,0 \n",
    "3 | 2,9| -0,1 \n",
    "\n",
    "Como ME é o erro médio, teremos que\n",
    "\n",
    "$$\n",
    "ME =  \\frac{0,1 + 1,8 - 0,8 - 1 - 0,1}{5}\n",
    "$$\n",
    "\n",
    "$$\n",
    "ME =  0\n",
    "$$\n",
    "\n",
    "Ou seja, segundo essa métrica, o algorítimo acertou 100% dos resultados, porém nota-se que em todas as predições, houve-se um erro\n",
    "\n",
    "\n",
    "**obs: essa métrica é dependente de escala**"
   ]
  },
  {
   "cell_type": "markdown",
   "id": "6951f10a",
   "metadata": {},
   "source": [
    "### Mean Absolute Error (MAE)\n",
    "\n",
    "A ideia do MAE é bem parecida com a ME, porém ao invés de calcularmos o erro médio, usa-se o módulo do erro, ou seja, a distância do y com o y_predito.\n",
    "\n",
    "Utilizamos o mesmo exemplo acima, teremos que:\n",
    "\n",
    "$$\n",
    "MAE =  \\frac{0,1 + 1,8 + 0,8 + 1 + 0,1}{5}\n",
    "$$\n",
    "\n",
    "$$\n",
    "MAE =  0.76\n",
    "$$\n",
    "\n",
    "Ou seja, com essa metrica, sabemos que esse algorítimo preve os resultados com erro médio de 0,76 para cima ou para baixo do valor esperado\n",
    "\n",
    "\n",
    "**obs: essa métrica é dependente de escala**"
   ]
  },
  {
   "cell_type": "markdown",
   "id": "266a56c7",
   "metadata": {},
   "source": [
    "### Mean Square Error (MSE)\n",
    "\n",
    "O MSE é, basicamente a média das distância quadráticas de y para y_predito, ou seja, nesse casos, para erros maiores do que 1, penaliza muito mais do que o MAE.\n",
    "\n",
    "Nesse mesmo exemplo teremos que:\n",
    "\n",
    "$$\n",
    "MSE =  \\frac{0,1^2 + 1,8^2 + 0,8^2 + 1^2 + 0,1^2}{5}\n",
    "$$\n",
    "\n",
    "$$\n",
    "MSE =  0.98\n",
    "$$\n",
    "\n",
    "**obs: essa métrica é dependente de escala**"
   ]
  },
  {
   "cell_type": "markdown",
   "id": "1e3b9dc6",
   "metadata": {},
   "source": [
    "### Root Mean Square Error (RMSE)\n",
    "\n",
    "A ideia do RMSE é a mesma que o MSE, porém é a raiz da média das distância quadráticas de y para y_predito. Portanto seria o 'desvio padrão'.\n",
    "\n",
    "$$\n",
    "RMSE =  \\sqrt{MSE}\n",
    "$$\n",
    "\n",
    "$$\n",
    "RMSE =  0.9899\n",
    "$$\n",
    "\n",
    "**obs: essa métrica é dependente de escala**"
   ]
  },
  {
   "cell_type": "markdown",
   "id": "cc6b5656",
   "metadata": {},
   "source": [
    "### Mean Percentage Error (MPE)\n",
    "\n",
    "Uma vantagem do MPE em relação ao ME é que essa métrica é o erro médio em porcentagem, ou seja, **não é dependente de escala.**\n",
    "\n",
    "Para calcularmos o MPE basta sabermos a relação percentual de cada y_predito em relação ao seu y.\n",
    "\n",
    "Usando a mesmo exemplo, teremos:\n",
    "\n",
    "y | y_predito | Erro \n",
    ":----|:----:|:----:\n",
    "3 | 3,1| +3,3% \n",
    "3 | 4,8| +60,0% \n",
    "3 | 2,2| -26,6% \n",
    "3 | 2,0| -33,3% \n",
    "3 | 2,9| -4,0% \n",
    "\n",
    "Portanto:\n",
    "\n",
    "$$\n",
    "ME =  \\frac{3,3 + 60 - 26,6 - 33,3 - 3,3}{5}\n",
    "$$\n",
    "\n",
    "$$\n",
    "ME =  0\\%\n",
    "$$\n",
    "\n",
    "\n"
   ]
  },
  {
   "cell_type": "markdown",
   "id": "4e6a0ee1",
   "metadata": {},
   "source": [
    "### Mean Average Percentage Error (MPAE)\n",
    "\n",
    "A ideia do MPAE é, basicamente a mesma que o MAE, porém, assim como o MPE, seu valor é dado em porcentagem, **não sendo dependente de escala**\n",
    "\n",
    "Utilizando o mesmo exemplo que o MPE, teremos que:\n",
    "\n",
    "$$\n",
    "ME =  \\frac{3,3 + 60 + 26,6 + 33,3 + 3,3}{5}\n",
    "$$\n",
    "\n",
    "$$\n",
    "ME =  25.4\\%\n",
    "$$\n"
   ]
  },
  {
   "cell_type": "markdown",
   "id": "ccd6134d",
   "metadata": {},
   "source": [
    "### Coeficiente de determinação (R²)\n",
    "\n",
    "O coeficiente de determinação, também chamado de R², **determina o quanto a variabilidade do valor y_predito está em relação ao seu y**. Ou seja, quanto maior o R², mais explicativo é o modelo linear, em outras palavras, melhor ele se ajusta à amostra. \n",
    "\n",
    "**Supondo que obtivemos um R² = 0,8234 significa que o modelo linear explica 82,34%.**\n",
    "\n",
    "Para calcular o R², temos que:\n",
    "\n",
    "$$\n",
    "R² =  \\frac{somatorio (y Predito - y Medio)}{somatorio (y - y Medio)}\n",
    "$$\n",
    "\n",
    "\n",
    "A imagem abaixo exemplifica melhor essa relação\n",
    "\n",
    "\n",
    "<img src=\"imagens_metricas/R2.png\" width=\"400\" \n",
    "     height=\"500\" > \n",
    "\n",
    "\n",
    "\n",
    "\n"
   ]
  }
 ],
 "metadata": {
  "kernelspec": {
   "display_name": "Python 3",
   "language": "python",
   "name": "python3"
  },
  "language_info": {
   "codemirror_mode": {
    "name": "ipython",
    "version": 3
   },
   "file_extension": ".py",
   "mimetype": "text/x-python",
   "name": "python",
   "nbconvert_exporter": "python",
   "pygments_lexer": "ipython3",
   "version": "3.7.0"
  }
 },
 "nbformat": 4,
 "nbformat_minor": 5
}
